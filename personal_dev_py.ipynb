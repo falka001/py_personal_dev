{
 "cells": [
  {
   "cell_type": "code",
   "execution_count": null,
   "id": "1a39cabb-5b25-46ad-9290-01692590120e",
   "metadata": {},
   "outputs": [],
   "source": [
    "import scvelo as scv"
   ]
  },
  {
   "cell_type": "code",
   "execution_count": null,
   "id": "0716b652-9f42-4ee8-9fef-8e585d335d01",
   "metadata": {},
   "outputs": [],
   "source": [
    "scv.logging.print_version()"
   ]
  },
  {
   "cell_type": "code",
   "execution_count": null,
   "id": "91124ecb-de60-495a-b7e2-11f7716de2c8",
   "metadata": {},
   "outputs": [],
   "source": [
    "scv.settings.verbosity = 3  # show errors(0), warnings(1), info(2), hints(3)\n",
    "scv.settings.presenter_view = True  # set max width size for presenter view\n",
    "scv.set_figure_params('scvelo')  # for beautified visualization"
   ]
  },
  {
   "cell_type": "code",
   "execution_count": null,
   "id": "addec207-bd39-417e-a364-13dea8a7e60f",
   "metadata": {},
   "outputs": [],
   "source": [
    "Cc8 = scv.read_loom(#loom file)\n",
    "C8 = scv.read(#loom file , cache = True)"
   ]
  },
  {
   "cell_type": "code",
   "execution_count": null,
   "id": "006c0d95-6420-46d8-881c-244aa352b5b8",
   "metadata": {},
   "outputs": [],
   "source": [
    "Cc7 = scv.read_loom(#loom file)\n",
    "C7 = scv.read(#loom file, cache = True)"
   ]
  },
  {
   "cell_type": "code",
   "execution_count": null,
   "id": "4b43e40d-f54e-44dd-8b1c-809741e8ae86",
   "metadata": {},
   "outputs": [],
   "source": [
    "Bb4 = scv.read_loom(#loom file)\n",
    "B4 = scv.read(#loom file, cache = True)"
   ]
  },
  {
   "cell_type": "code",
   "execution_count": null,
   "id": "9bfd03df-b701-498c-ada5-55315a8e35c8",
   "metadata": {},
   "outputs": [],
   "source": [
    "C8 = scv.utils.merge(C8, Cc8, copy=True)\n",
    "C7 = scv.utils.merge(C7, Cc7, copy=True)\n",
    "B4 = scv.utils.merge(B4, Bb4, copy=True)"
   ]
  },
  {
   "cell_type": "code",
   "execution_count": null,
   "id": "ce6799da-b879-4a60-a467-1c1ba4f2a2ef",
   "metadata": {},
   "outputs": [],
   "source": [
    "C8.var_names_make_unique\n",
    "C7.var_names_make_unique\n",
    "B4.var_names_make_unique"
   ]
  },
  {
   "cell_type": "code",
   "execution_count": null,
   "id": "e9169f10-0b39-4db8-bd1c-1ec57de41a11",
   "metadata": {},
   "outputs": [],
   "source": [
    "C7.obs"
   ]
  },
  {
   "cell_type": "code",
   "execution_count": null,
   "id": "63345833-390b-47f2-89a7-613629881014",
   "metadata": {},
   "outputs": [],
   "source": [
    "adata = C8.concatenate(C7, B4)"
   ]
  },
  {
   "cell_type": "code",
   "execution_count": null,
   "id": "e6d63430-8b80-4e7c-b000-72f1d332aae1",
   "metadata": {},
   "outputs": [],
   "source": [
    "adata.obs"
   ]
  },
  {
   "cell_type": "code",
   "execution_count": null,
   "id": "682f74f5-7883-4793-9dd9-3a25621a1024",
   "metadata": {},
   "outputs": [],
   "source": [
    "import pandas as pd\n",
    "C8_Cluster= pd.read_csv(#clusters csv file , header=None)\n",
    "C7_Cluster= pd.read_csv(#clusters csv file , header=None)\n",
    "B4_Cluster= pd.read_csv(#clusters csv file , header=None)"
   ]
  },
  {
   "cell_type": "code",
   "execution_count": null,
   "id": "b64c4081-ce10-4757-b3cf-7b1a299dd097",
   "metadata": {},
   "outputs": [],
   "source": [
    "C8_Cluster"
   ]
  },
  {
   "cell_type": "code",
   "execution_count": null,
   "id": "c9127740-3812-4e57-8450-64c1a486d00b",
   "metadata": {},
   "outputs": [],
   "source": [
    "C7_Cluster"
   ]
  },
  {
   "cell_type": "code",
   "execution_count": null,
   "id": "a75c037f-fdd9-4ada-81b8-593732800c2f",
   "metadata": {},
   "outputs": [],
   "source": [
    "B4_Cluster"
   ]
  },
  {
   "cell_type": "code",
   "execution_count": null,
   "id": "115f4983-9e71-406e-b763-c4761e05f50c",
   "metadata": {},
   "outputs": [],
   "source": [
    "C8_Cluster = C8_Cluster.rename(columns = {0:'CellID', 1:'clusters'})\n",
    "C7_Cluster = C7_Cluster.rename(columns = {0:'CellID', 1:'clusters'})\n",
    "B4_Cluster = B4_Cluster.rename(columns = {0:'CellID', 1:'clusters'})"
   ]
  },
  {
   "cell_type": "code",
   "execution_count": null,
   "id": "5a3d5e52-8692-4bad-beb5-31248b9d71f0",
   "metadata": {},
   "outputs": [],
   "source": [
    "C8_Cluster = C8_Cluster.replace({'CellID' : '-6'}, {'CellID' : 'x-0'}, regex=True)\n",
    "C7_Cluster = C7_Cluster.replace({'CellID' : '-5'}, {'CellID' : 'x-1'}, regex=True)\n",
    "B4_Cluster = B4_Cluster.replace({'CellID' : '-4'}, {'CellID' : 'x-2'}, regex=True)"
   ]
  },
  {
   "cell_type": "code",
   "execution_count": null,
   "id": "6c691abc-21c7-4757-8d85-e8f6a047afe2",
   "metadata": {},
   "outputs": [],
   "source": [
    "C8_Cluster['CellID'] = 'possorted_genome_bam_I93VQ:' + C8_Cluster['CellID']\n",
    "C7_Cluster['CellID'] = 'possorted_genome_bam_QML5P:' + C7_Cluster['CellID']\n",
    "B4_Cluster['CellID'] = 'possorted_genome_bam_0LHNF:' + B4_Cluster['CellID']"
   ]
  },
  {
   "cell_type": "code",
   "execution_count": null,
   "id": "f0597318-7ebd-44ab-86f9-08c207be838b",
   "metadata": {},
   "outputs": [],
   "source": [
    "C8_Cluster = C8_Cluster.replace({'clusters':'Cluster '}, {'clusters':'C'}, regex=True)"
   ]
  },
  {
   "cell_type": "code",
   "execution_count": null,
   "id": "0845ced2-eedc-4d4f-843d-ff3261d30ee7",
   "metadata": {},
   "outputs": [],
   "source": [
    "C7_Cluster = C7_Cluster.replace({'clusters':'Cluster 1'}, {'clusters':'C5'}, regex=True)\n",
    "C7_Cluster = C7_Cluster.replace({'clusters':'Cluster 2'}, {'clusters':'C6'}, regex=True)\n",
    "C7_Cluster = C7_Cluster.replace({'clusters':'Cluster 3'}, {'clusters':'C7'}, regex=True)"
   ]
  },
  {
   "cell_type": "code",
   "execution_count": null,
   "id": "9a3d94f6-df5e-4e96-a970-8b3e2e6daaed",
   "metadata": {},
   "outputs": [],
   "source": [
    "B4_Cluster = B4_Cluster.replace({'clusters':'Cluster 1'}, {'clusters':'B8'}, regex=True)\n",
    "B4_Cluster = B4_Cluster.replace({'clusters':'Cluster 2'}, {'clusters':'B9'}, regex=True)\n",
    "B4_Cluster = B4_Cluster.replace({'clusters':'Cluster 3'}, {'clusters':'B10'}, regex=True)\n",
    "B4_Cluster = B4_Cluster.replace({'clusters':'Cluster 4'}, {'clusters':'B11'}, regex=True)\n",
    "B4_Cluster = B4_Cluster.replace({'clusters':'Cluster 5'}, {'clusters':'B12'}, regex=True)"
   ]
  },
  {
   "cell_type": "code",
   "execution_count": null,
   "id": "64f8d74f-8d81-492e-a62f-382ce8967b84",
   "metadata": {},
   "outputs": [],
   "source": [
    "C8_Cluster = C8_Cluster.iloc[1:,:]\n",
    "C7_Cluster = C7_Cluster.iloc[1:,:]\n",
    "B4_Cluster = B4_Cluster.iloc[1:,:]\n",
    "Clusters = [C8_Cluster, C7_Cluster, B4_Cluster]\n",
    "clusters = pd.concat(Clusters)"
   ]
  },
  {
   "cell_type": "code",
   "execution_count": null,
   "id": "ddbe7595-a128-4714-8408-f738570c7d2f",
   "metadata": {},
   "outputs": [],
   "source": [
    "da = pd.DataFrame(adata.obs)"
   ]
  },
  {
   "cell_type": "code",
   "execution_count": null,
   "id": "3922b476-1865-4d32-8bc3-b4e416a468d3",
   "metadata": {},
   "outputs": [],
   "source": [
    "final = pd.merge(da, clusters, on='CellID')\n",
    "final"
   ]
  },
  {
   "cell_type": "code",
   "execution_count": null,
   "id": "4fb0475e-477d-4bb7-898a-33827b4abc40",
   "metadata": {},
   "outputs": [],
   "source": [
    "adata.obs.reset_index(inplace=True)\n",
    "adata.obs['clusters'] = final['clusters']\n",
    "adata.obs"
   ]
  }
 ],
 "metadata": {
  "kernelspec": {
   "display_name": "Python 3 (ipykernel)",
   "language": "python",
   "name": "python3"
  },
  "language_info": {
   "codemirror_mode": {
    "name": "ipython",
    "version": 3
   },
   "file_extension": ".py",
   "mimetype": "text/x-python",
   "name": "python",
   "nbconvert_exporter": "python",
   "pygments_lexer": "ipython3",
   "version": "3.9.7"
  }
 },
 "nbformat": 4,
 "nbformat_minor": 5
}
